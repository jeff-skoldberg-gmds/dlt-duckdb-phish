{
 "cells": [
  {
   "cell_type": "code",
   "execution_count": null,
   "metadata": {},
   "outputs": [],
   "source": [
    "import duckdb"
   ]
  },
  {
   "cell_type": "code",
   "execution_count": null,
   "metadata": {},
   "outputs": [],
   "source": [
    "con = duckdb.connect(\"phish_pipeline.duckdb\")\n",
    "con.sql(\"select * from information_schema.tables\")"
   ]
  },
  {
   "cell_type": "code",
   "execution_count": null,
   "metadata": {},
   "outputs": [],
   "source": [
    "# just an example of how to query the tables\n",
    "setlists = con.sql(\"select * from phish_data.setlists\")\n",
    "setlists"
   ]
  },
  {
   "cell_type": "code",
   "execution_count": null,
   "metadata": {},
   "outputs": [],
   "source": [
    "sql = \"\"\"\n",
    "create or replace view user_setlists_v as\n",
    "(\n",
    "with \n",
    "setlists as\n",
    "(\n",
    "SELECT\n",
    "\tshowid,\n",
    "\tshowdate,\n",
    "\tsongid,\n",
    "\tposition,\n",
    "\tset,\n",
    "\ttourname,\n",
    "\ttourwhen,\n",
    "\tartist_name,\n",
    "\tsong\n",
    "FROM\n",
    "\tphish_data.setlists\n",
    "),\n",
    "\n",
    "attended as\n",
    "(\n",
    "select\n",
    "\tuid,\n",
    "\tusername,\n",
    "\tshowid,\n",
    "\tvenueid,\n",
    "\tvenue,\n",
    "\tcity,\n",
    "\tstate,\n",
    "\tartist_name\n",
    "from\n",
    "\tphish_data.user_attendance__data\n",
    ")\n",
    "SELECT *\n",
    "FROM \n",
    "setlists\n",
    "LEFT join\n",
    "attended\n",
    "\tusing (showid,\n",
    "artist_name)\n",
    ")\n",
    "\"\"\"\n",
    "\n",
    "con.sql(sql)"
   ]
  },
  {
   "cell_type": "code",
   "execution_count": null,
   "metadata": {},
   "outputs": [],
   "source": [
    "user_setlists = con.sql(\"select * from user_setlists_v\")\n",
    "user_setlists.count(\"*\")"
   ]
  },
  {
   "cell_type": "code",
   "execution_count": null,
   "metadata": {},
   "outputs": [],
   "source": [
    "user_setlists.limit(10)"
   ]
  },
  {
   "cell_type": "code",
   "execution_count": null,
   "metadata": {},
   "outputs": [],
   "source": [
    "con.close()"
   ]
  }
 ],
 "metadata": {
  "kernelspec": {
   "display_name": ".venv",
   "language": "python",
   "name": "python3"
  },
  "language_info": {
   "codemirror_mode": {
    "name": "ipython",
    "version": 3
   },
   "file_extension": ".py",
   "mimetype": "text/x-python",
   "name": "python",
   "nbconvert_exporter": "python",
   "pygments_lexer": "ipython3",
   "version": "3.11.10"
  }
 },
 "nbformat": 4,
 "nbformat_minor": 2
}
